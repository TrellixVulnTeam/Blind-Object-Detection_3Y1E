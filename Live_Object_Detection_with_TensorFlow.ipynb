{
  "nbformat": 4,
  "nbformat_minor": 0,
  "metadata": {
    "colab": {
      "name": "Live Object Detection with TensorFlow.ipynb",
      "provenance": [],
      "authorship_tag": "ABX9TyO5kVIpJioITkc16Id5vCaY",
      "include_colab_link": true
    },
    "kernelspec": {
      "name": "python3",
      "display_name": "Python 3"
    }
  },
  "cells": [
    {
      "cell_type": "markdown",
      "metadata": {
        "id": "view-in-github",
        "colab_type": "text"
      },
      "source": [
        "<a href=\"https://colab.research.google.com/github/newb-dev-1008/Blind-Object-Detection/blob/main/Live_Object_Detection_with_TensorFlow.ipynb\" target=\"_parent\"><img src=\"https://colab.research.google.com/assets/colab-badge.svg\" alt=\"Open In Colab\"/></a>"
      ]
    },
    {
      "cell_type": "code",
      "metadata": {
        "id": "a55Jx9SMQgtS"
      },
      "source": [
        "import numpy as np\r\n",
        "import os \r\n",
        "import six.moves.urllib as urllib\r\n",
        "import sys\r\n",
        "import tarfile\r\n",
        "import tensorflow as tf\r\n",
        "import zipfile\r\n",
        "\r\n",
        "from collections import defaultdict\r\n",
        "from io import StringIO\r\n",
        "import matplotlib.pyplot as plt\r\n",
        "from PIL import Image\r\n",
        "\r\n",
        "import cv2\r\n",
        "cap = cv2.VideoCapture(0)"
      ],
      "execution_count": null,
      "outputs": []
    }
  ]
}