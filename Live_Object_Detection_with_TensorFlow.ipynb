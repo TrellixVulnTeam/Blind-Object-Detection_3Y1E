{
  "nbformat": 4,
  "nbformat_minor": 0,
  "metadata": {
    "colab": {
      "name": "Live Object Detection with TensorFlow.ipynb",
      "provenance": [],
      "authorship_tag": "ABX9TyOCVTeFUww6T3xZsoFk+UqF",
      "include_colab_link": true
    },
    "kernelspec": {
      "name": "python3",
      "display_name": "Python 3"
    }
  },
  "cells": [
    {
      "cell_type": "markdown",
      "metadata": {
        "id": "view-in-github",
        "colab_type": "text"
      },
      "source": [
        "<a href=\"https://colab.research.google.com/github/newb-dev-1008/Blind-Object-Detection/blob/main/Live_Object_Detection_with_TensorFlow.ipynb\" target=\"_parent\"><img src=\"https://colab.research.google.com/assets/colab-badge.svg\" alt=\"Open In Colab\"/></a>"
      ]
    },
    {
      "cell_type": "code",
      "metadata": {
        "id": "a55Jx9SMQgtS"
      },
      "source": [
        "import numpy as np\r\n",
        "import os \r\n",
        "import six.moves.urllib as urllib\r\n",
        "import sys\r\n",
        "import tarfile\r\n",
        "import tensorflow as tf\r\n",
        "import zipfile\r\n",
        "\r\n",
        "from collections import defaultdict\r\n",
        "from io import StringIO\r\n",
        "import matplotlib.pyplot as plt\r\n",
        "from PIL import Image\r\n",
        "\r\n",
        "import cv2\r\n",
        "cap = cv2.VideoCapture(0)\r\n",
        "\r\n",
        "sys.path.append(\"..\")"
      ],
      "execution_count": 2,
      "outputs": []
    },
    {
      "cell_type": "code",
      "metadata": {
        "colab": {
          "base_uri": "https://localhost:8080/"
        },
        "id": "QFqLAnT8R7TZ",
        "outputId": "770951e0-dc42-4644-f30c-cff5fb27ae1b"
      },
      "source": [
        "!git clone https://github.com/newb-dev-1008/Blind-Object-Detection.git"
      ],
      "execution_count": 3,
      "outputs": [
        {
          "output_type": "stream",
          "text": [
            "Cloning into 'Blind-Object-Detection'...\n",
            "remote: Enumerating objects: 2478, done.\u001b[K\n",
            "remote: Counting objects: 100% (2478/2478), done.\u001b[K\n",
            "remote: Compressing objects: 100% (1851/1851), done.\u001b[K\n",
            "remote: Total 2478 (delta 606), reused 2456 (delta 596), pack-reused 0\u001b[K\n",
            "Receiving objects: 100% (2478/2478), 32.22 MiB | 29.89 MiB/s, done.\n",
            "Resolving deltas: 100% (606/606), done.\n"
          ],
          "name": "stdout"
        }
      ]
    },
    {
      "cell_type": "code",
      "metadata": {
        "id": "TC2Jjd5IaVK_"
      },
      "source": [
        "%matplotlib inline\r\n",
        "import sys\r\n",
        "sys.path.insert(0, \"/content/Blind-Object-Detection/models-master/research/object_detection/utils\")"
      ],
      "execution_count": 4,
      "outputs": []
    },
    {
      "cell_type": "code",
      "metadata": {
        "id": "3mL_kFOUbIDb"
      },
      "source": [
        ""
      ],
      "execution_count": null,
      "outputs": []
    }
  ]
}