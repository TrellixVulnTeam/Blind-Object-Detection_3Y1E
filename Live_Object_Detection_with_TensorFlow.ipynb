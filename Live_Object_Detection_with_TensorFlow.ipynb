{
  "nbformat": 4,
  "nbformat_minor": 0,
  "metadata": {
    "colab": {
      "name": "Live Object Detection with TensorFlow.ipynb",
      "provenance": [],
      "authorship_tag": "ABX9TyOYc/ze06Vp/OJlVshf9I+T",
      "include_colab_link": true
    },
    "kernelspec": {
      "name": "python3",
      "display_name": "Python 3"
    }
  },
  "cells": [
    {
      "cell_type": "markdown",
      "metadata": {
        "id": "view-in-github",
        "colab_type": "text"
      },
      "source": [
        "<a href=\"https://colab.research.google.com/github/newb-dev-1008/Blind-Object-Detection/blob/main/Live_Object_Detection_with_TensorFlow.ipynb\" target=\"_parent\"><img src=\"https://colab.research.google.com/assets/colab-badge.svg\" alt=\"Open In Colab\"/></a>"
      ]
    },
    {
      "cell_type": "code",
      "metadata": {
        "id": "a55Jx9SMQgtS"
      },
      "source": [
        "import numpy as np\r\n",
        "import os \r\n",
        "import six.moves.urllib as urllib\r\n",
        "import sys\r\n",
        "import tarfile\r\n",
        "import tensorflow as tf\r\n",
        "import zipfile\r\n",
        "\r\n",
        "from collections import defaultdict\r\n",
        "from io import StringIO\r\n",
        "import matplotlib.pyplot as plt\r\n",
        "from PIL import Image\r\n",
        "\r\n",
        "import cv2\r\n",
        "cap = cv2.VideoCapture(0)\r\n",
        "\r\n",
        "sys.path.append(\"..\")"
      ],
      "execution_count": 1,
      "outputs": []
    },
    {
      "cell_type": "code",
      "metadata": {
        "colab": {
          "base_uri": "https://localhost:8080/"
        },
        "id": "QFqLAnT8R7TZ",
        "outputId": "27f1a00a-c786-4f7e-db94-b563480ecbd8"
      },
      "source": [
        "!git clone https://github.com/newb-dev-1008/Blind-Object-Detection.git"
      ],
      "execution_count": 6,
      "outputs": [
        {
          "output_type": "stream",
          "text": [
            "Cloning into 'Blind-Object-Detection'...\n",
            "remote: Enumerating objects: 2469, done.\u001b[K\n",
            "remote: Counting objects: 100% (2469/2469), done.\u001b[K\n",
            "remote: Compressing objects: 100% (1843/1843), done.\u001b[K\n",
            "remote: Total 2469 (delta 601), reused 2453 (delta 595), pack-reused 0\u001b[K\n",
            "Receiving objects: 100% (2469/2469), 32.22 MiB | 17.07 MiB/s, done.\n",
            "Resolving deltas: 100% (601/601), done.\n"
          ],
          "name": "stdout"
        }
      ]
    },
    {
      "cell_type": "code",
      "metadata": {
        "colab": {
          "base_uri": "https://localhost:8080/",
          "height": 330
        },
        "id": "TC2Jjd5IaVK_",
        "outputId": "97ee0a8f-f5ce-472e-bf85-5172f9d5d3a9"
      },
      "source": [
        "%matplotlib inline\r\n",
        "import sys\r\n",
        "# sys.path.insert(\"# Path here\")\r\n",
        "\r\n",
        "from object_detection.utils import ops as util_ops"
      ],
      "execution_count": 7,
      "outputs": [
        {
          "output_type": "error",
          "ename": "ModuleNotFoundError",
          "evalue": "ignored",
          "traceback": [
            "\u001b[0;31m---------------------------------------------------------------------------\u001b[0m",
            "\u001b[0;31mModuleNotFoundError\u001b[0m                       Traceback (most recent call last)",
            "\u001b[0;32m<ipython-input-7-07f718250875>\u001b[0m in \u001b[0;36m<module>\u001b[0;34m()\u001b[0m\n\u001b[1;32m      3\u001b[0m \u001b[0;31m# sys.path.insert(\"# Path here\")\u001b[0m\u001b[0;34m\u001b[0m\u001b[0;34m\u001b[0m\u001b[0;34m\u001b[0m\u001b[0m\n\u001b[1;32m      4\u001b[0m \u001b[0;34m\u001b[0m\u001b[0m\n\u001b[0;32m----> 5\u001b[0;31m \u001b[0;32mfrom\u001b[0m \u001b[0mobject_detection\u001b[0m\u001b[0;34m.\u001b[0m\u001b[0mutils\u001b[0m \u001b[0;32mimport\u001b[0m \u001b[0mops\u001b[0m \u001b[0;32mas\u001b[0m \u001b[0mutil_ops\u001b[0m\u001b[0;34m\u001b[0m\u001b[0;34m\u001b[0m\u001b[0m\n\u001b[0m",
            "\u001b[0;31mModuleNotFoundError\u001b[0m: No module named 'object_detection'",
            "",
            "\u001b[0;31m---------------------------------------------------------------------------\u001b[0;32m\nNOTE: If your import is failing due to a missing package, you can\nmanually install dependencies using either !pip or !apt.\n\nTo view examples of installing some common dependencies, click the\n\"Open Examples\" button below.\n\u001b[0;31m---------------------------------------------------------------------------\u001b[0m\n"
          ]
        }
      ]
    },
    {
      "cell_type": "code",
      "metadata": {
        "id": "3mL_kFOUbIDb"
      },
      "source": [
        ""
      ],
      "execution_count": null,
      "outputs": []
    }
  ]
}