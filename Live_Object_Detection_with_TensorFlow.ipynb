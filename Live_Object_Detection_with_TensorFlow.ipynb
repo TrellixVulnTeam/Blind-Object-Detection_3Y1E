{
  "nbformat": 4,
  "nbformat_minor": 0,
  "metadata": {
    "colab": {
      "name": "Live Object Detection with TensorFlow.ipynb",
      "provenance": [],
      "authorship_tag": "ABX9TyMhQktaNSEggMOeCUF/fejs",
      "include_colab_link": true
    },
    "kernelspec": {
      "name": "python3",
      "display_name": "Python 3"
    }
  },
  "cells": [
    {
      "cell_type": "markdown",
      "metadata": {
        "id": "view-in-github",
        "colab_type": "text"
      },
      "source": [
        "<a href=\"https://colab.research.google.com/github/newb-dev-1008/Blind-Object-Detection/blob/main/Live_Object_Detection_with_TensorFlow.ipynb\" target=\"_parent\"><img src=\"https://colab.research.google.com/assets/colab-badge.svg\" alt=\"Open In Colab\"/></a>"
      ]
    },
    {
      "cell_type": "code",
      "metadata": {
        "id": "a55Jx9SMQgtS"
      },
      "source": [
        "import numpy as np\r\n",
        "import os \r\n",
        "import six.moves.urllib as urllib\r\n",
        "import sys\r\n",
        "import tarfile\r\n",
        "import tensorflow as tf\r\n",
        "import zipfile\r\n",
        "\r\n",
        "from collections import defaultdict\r\n",
        "from io import StringIO\r\n",
        "import matplotlib.pyplot as plt\r\n",
        "from PIL import Image\r\n",
        "\r\n",
        "import cv2\r\n",
        "cap = cv2.VideoCapture(0)\r\n",
        "\r\n",
        "sys.path.append(\"..\")"
      ],
      "execution_count": 2,
      "outputs": []
    },
    {
      "cell_type": "code",
      "metadata": {
        "colab": {
          "base_uri": "https://localhost:8080/"
        },
        "id": "QFqLAnT8R7TZ",
        "outputId": "770951e0-dc42-4644-f30c-cff5fb27ae1b"
      },
      "source": [
        "!git clone https://github.com/newb-dev-1008/Blind-Object-Detection.git"
      ],
      "execution_count": 3,
      "outputs": [
        {
          "output_type": "stream",
          "text": [
            "Cloning into 'Blind-Object-Detection'...\n",
            "remote: Enumerating objects: 2478, done.\u001b[K\n",
            "remote: Counting objects: 100% (2478/2478), done.\u001b[K\n",
            "remote: Compressing objects: 100% (1851/1851), done.\u001b[K\n",
            "remote: Total 2478 (delta 606), reused 2456 (delta 596), pack-reused 0\u001b[K\n",
            "Receiving objects: 100% (2478/2478), 32.22 MiB | 29.89 MiB/s, done.\n",
            "Resolving deltas: 100% (606/606), done.\n"
          ],
          "name": "stdout"
        }
      ]
    },
    {
      "cell_type": "code",
      "metadata": {
        "id": "TC2Jjd5IaVK_"
      },
      "source": [
        "%matplotlib inline\r\n",
        "import sys\r\n",
        "sys.path.insert(0, \"/content/Blind-Object-Detection/models-master/research/object_detection/utils\")"
      ],
      "execution_count": 4,
      "outputs": []
    },
    {
      "cell_type": "code",
      "metadata": {
        "id": "lb9W4-rMkD9h"
      },
      "source": [
        "sys.path.insert(0, \"/content/Blind-Object-Detection/models-master/research/object_detection\")"
      ],
      "execution_count": 5,
      "outputs": []
    },
    {
      "cell_type": "code",
      "metadata": {
        "id": "xjKq8g1EkylA",
        "outputId": "5801598a-f31a-4e2e-cec6-2fb3f6f0a2b8",
        "colab": {
          "base_uri": "https://localhost:8080/"
        }
      },
      "source": [
        "!pip install tf_slim"
      ],
      "execution_count": 7,
      "outputs": [
        {
          "output_type": "stream",
          "text": [
            "Collecting tf_slim\n",
            "\u001b[?25l  Downloading https://files.pythonhosted.org/packages/02/97/b0f4a64df018ca018cc035d44f2ef08f91e2e8aa67271f6f19633a015ff7/tf_slim-1.1.0-py2.py3-none-any.whl (352kB)\n",
            "\r\u001b[K     |█                               | 10kB 13.6MB/s eta 0:00:01\r\u001b[K     |█▉                              | 20kB 17.9MB/s eta 0:00:01\r\u001b[K     |██▉                             | 30kB 16.2MB/s eta 0:00:01\r\u001b[K     |███▊                            | 40kB 11.4MB/s eta 0:00:01\r\u001b[K     |████▋                           | 51kB 5.6MB/s eta 0:00:01\r\u001b[K     |█████▋                          | 61kB 6.0MB/s eta 0:00:01\r\u001b[K     |██████▌                         | 71kB 6.5MB/s eta 0:00:01\r\u001b[K     |███████▌                        | 81kB 6.7MB/s eta 0:00:01\r\u001b[K     |████████▍                       | 92kB 6.5MB/s eta 0:00:01\r\u001b[K     |█████████▎                      | 102kB 5.3MB/s eta 0:00:01\r\u001b[K     |██████████▎                     | 112kB 5.3MB/s eta 0:00:01\r\u001b[K     |███████████▏                    | 122kB 5.3MB/s eta 0:00:01\r\u001b[K     |████████████                    | 133kB 5.3MB/s eta 0:00:01\r\u001b[K     |█████████████                   | 143kB 5.3MB/s eta 0:00:01\r\u001b[K     |██████████████                  | 153kB 5.3MB/s eta 0:00:01\r\u001b[K     |███████████████                 | 163kB 5.3MB/s eta 0:00:01\r\u001b[K     |███████████████▉                | 174kB 5.3MB/s eta 0:00:01\r\u001b[K     |████████████████▊               | 184kB 5.3MB/s eta 0:00:01\r\u001b[K     |█████████████████▊              | 194kB 5.3MB/s eta 0:00:01\r\u001b[K     |██████████████████▋             | 204kB 5.3MB/s eta 0:00:01\r\u001b[K     |███████████████████▌            | 215kB 5.3MB/s eta 0:00:01\r\u001b[K     |████████████████████▌           | 225kB 5.3MB/s eta 0:00:01\r\u001b[K     |█████████████████████▍          | 235kB 5.3MB/s eta 0:00:01\r\u001b[K     |██████████████████████▍         | 245kB 5.3MB/s eta 0:00:01\r\u001b[K     |███████████████████████▎        | 256kB 5.3MB/s eta 0:00:01\r\u001b[K     |████████████████████████▏       | 266kB 5.3MB/s eta 0:00:01\r\u001b[K     |█████████████████████████▏      | 276kB 5.3MB/s eta 0:00:01\r\u001b[K     |██████████████████████████      | 286kB 5.3MB/s eta 0:00:01\r\u001b[K     |███████████████████████████     | 296kB 5.3MB/s eta 0:00:01\r\u001b[K     |████████████████████████████    | 307kB 5.3MB/s eta 0:00:01\r\u001b[K     |████████████████████████████▉   | 317kB 5.3MB/s eta 0:00:01\r\u001b[K     |█████████████████████████████▉  | 327kB 5.3MB/s eta 0:00:01\r\u001b[K     |██████████████████████████████▊ | 337kB 5.3MB/s eta 0:00:01\r\u001b[K     |███████████████████████████████▋| 348kB 5.3MB/s eta 0:00:01\r\u001b[K     |████████████████████████████████| 358kB 5.3MB/s \n",
            "\u001b[?25hRequirement already satisfied: absl-py>=0.2.2 in /usr/local/lib/python3.6/dist-packages (from tf_slim) (0.10.0)\n",
            "Requirement already satisfied: six in /usr/local/lib/python3.6/dist-packages (from absl-py>=0.2.2->tf_slim) (1.15.0)\n",
            "Installing collected packages: tf-slim\n",
            "Successfully installed tf-slim-1.1.0\n"
          ],
          "name": "stdout"
        }
      ]
    },
    {
      "cell_type": "code",
      "metadata": {
        "id": "WtxcmIrwmD8Y"
      },
      "source": [
        "import os\r\n",
        "os.environ['PYTHONPATH'] += '/content/Blind-Object-Detection/models-master/research/object_detection'"
      ],
      "execution_count": 11,
      "outputs": []
    },
    {
      "cell_type": "code",
      "metadata": {
        "id": "3mL_kFOUbIDb",
        "colab": {
          "base_uri": "https://localhost:8080/"
        },
        "outputId": "90795733-0a3f-432d-a199-5b090525f30b"
      },
      "source": [
        "cp object_detection/packages/tf2/setup.py"
      ],
      "execution_count": 13,
      "outputs": [
        {
          "output_type": "stream",
          "text": [
            "cp: missing destination file operand after 'object_detection/packages/tf2/setup.py'\n",
            "Try 'cp --help' for more information.\n"
          ],
          "name": "stdout"
        }
      ]
    },
    {
      "cell_type": "code",
      "metadata": {
        "id": "z1dbfMVCkheZ",
        "outputId": "c57438b7-09ea-4a54-d231-3f3f0947ffe5",
        "colab": {
          "base_uri": "https://localhost:8080/"
        }
      },
      "source": [
        "cd --help"
      ],
      "execution_count": 14,
      "outputs": [
        {
          "output_type": "stream",
          "text": [
            "No matching entry in directory history\n"
          ],
          "name": "stdout"
        }
      ]
    },
    {
      "cell_type": "code",
      "metadata": {
        "id": "65-MKvxUtIlV",
        "outputId": "9d82b6d0-a1e7-45a2-aa38-e3eedb3a8f64",
        "colab": {
          "base_uri": "https://localhost:8080/"
        }
      },
      "source": [
        "cp \"/content/Blind-Object-Detection/models-master/research/object_detection/packages/tf2/setup.py\""
      ],
      "execution_count": 15,
      "outputs": [
        {
          "output_type": "stream",
          "text": [
            "cp: missing destination file operand after '/content/Blind-Object-Detection/models-master/research/object_detection/packages/tf2/setup.py'\n",
            "Try 'cp --help' for more information.\n"
          ],
          "name": "stdout"
        }
      ]
    },
    {
      "cell_type": "code",
      "metadata": {
        "id": "aG18-MvItVvn",
        "outputId": "3958076c-bac2-4e7d-fa74-d531e92c38d6",
        "colab": {
          "base_uri": "https://localhost:8080/"
        }
      },
      "source": [
        "cp object_detection/packages/tf2/setup.py ."
      ],
      "execution_count": 16,
      "outputs": [
        {
          "output_type": "stream",
          "text": [
            "cp: cannot stat 'object_detection/packages/tf2/setup.py': No such file or directory\n"
          ],
          "name": "stdout"
        }
      ]
    },
    {
      "cell_type": "code",
      "metadata": {
        "id": "VIPbOJuZvL7o"
      },
      "source": [
        "cp \"/content/Blind-Object-Detection/models-master/research/object_detection/packages/tf2/setup.py\" ."
      ],
      "execution_count": 17,
      "outputs": []
    },
    {
      "cell_type": "code",
      "metadata": {
        "id": "afRAEiB9vQSh",
        "outputId": "75b91d71-ba03-4aaf-cbab-b01990f934f5",
        "colab": {
          "base_uri": "https://localhost:8080/",
          "height": 296
        }
      },
      "source": [
        "from object_detection.utils import ops as utils_ops"
      ],
      "execution_count": 22,
      "outputs": [
        {
          "output_type": "error",
          "ename": "ModuleNotFoundError",
          "evalue": "ignored",
          "traceback": [
            "\u001b[0;31m---------------------------------------------------------------------------\u001b[0m",
            "\u001b[0;31mModuleNotFoundError\u001b[0m                       Traceback (most recent call last)",
            "\u001b[0;32m<ipython-input-22-dee208a5f315>\u001b[0m in \u001b[0;36m<module>\u001b[0;34m()\u001b[0m\n\u001b[0;32m----> 1\u001b[0;31m \u001b[0;32mfrom\u001b[0m \u001b[0mobject_detection\u001b[0m\u001b[0;34m.\u001b[0m\u001b[0mutils\u001b[0m \u001b[0;32mimport\u001b[0m \u001b[0mops\u001b[0m \u001b[0;32mas\u001b[0m \u001b[0mutils_ops\u001b[0m\u001b[0;34m\u001b[0m\u001b[0;34m\u001b[0m\u001b[0m\n\u001b[0m",
            "\u001b[0;31mModuleNotFoundError\u001b[0m: No module named 'object_detection'",
            "",
            "\u001b[0;31m---------------------------------------------------------------------------\u001b[0;32m\nNOTE: If your import is failing due to a missing package, you can\nmanually install dependencies using either !pip or !apt.\n\nTo view examples of installing some common dependencies, click the\n\"Open Examples\" button below.\n\u001b[0;31m---------------------------------------------------------------------------\u001b[0m\n"
          ]
        }
      ]
    },
    {
      "cell_type": "code",
      "metadata": {
        "id": "OCEX6sGSvast"
      },
      "source": [
        ""
      ],
      "execution_count": null,
      "outputs": []
    }
  ]
}